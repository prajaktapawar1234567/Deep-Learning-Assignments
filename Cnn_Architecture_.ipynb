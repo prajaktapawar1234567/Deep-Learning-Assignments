{
  "nbformat": 4,
  "nbformat_minor": 0,
  "metadata": {
    "colab": {
      "name": "Cnn_Architecture_.ipynb",
      "provenance": [],
      "include_colab_link": true
    },
    "kernelspec": {
      "name": "python3",
      "display_name": "Python 3"
    }
  },
  "cells": [
    {
      "cell_type": "markdown",
      "metadata": {
        "id": "view-in-github",
        "colab_type": "text"
      },
      "source": [
        "<a href=\"https://colab.research.google.com/github/prajaktapawar1234567/Deep-Learning-Assignments/blob/master/Cnn_Architecture_.ipynb\" target=\"_parent\"><img src=\"https://colab.research.google.com/assets/colab-badge.svg\" alt=\"Open In Colab\"/></a>"
      ]
    },
    {
      "cell_type": "code",
      "metadata": {
        "colab": {
          "base_uri": "https://localhost:8080/"
        },
        "id": "EjK6_LyGCI0a",
        "outputId": "fe6fe77d-889f-4fe0-a6fa-3d515dfa18ef"
      },
      "source": [
        "!pip install keras.applications"
      ],
      "execution_count": 2,
      "outputs": [
        {
          "output_type": "stream",
          "name": "stdout",
          "text": [
            "Collecting keras.applications\n",
            "  Downloading Keras_Applications-1.0.8-py3-none-any.whl (50 kB)\n",
            "\u001b[?25l\r\u001b[K     |██████▌                         | 10 kB 24.3 MB/s eta 0:00:01\r\u001b[K     |█████████████                   | 20 kB 14.0 MB/s eta 0:00:01\r\u001b[K     |███████████████████▍            | 30 kB 16.4 MB/s eta 0:00:01\r\u001b[K     |█████████████████████████▉      | 40 kB 18.7 MB/s eta 0:00:01\r\u001b[K     |████████████████████████████████| 50 kB 5.0 MB/s \n",
            "\u001b[?25hRequirement already satisfied: h5py in /usr/local/lib/python3.7/dist-packages (from keras.applications) (3.1.0)\n",
            "Requirement already satisfied: numpy>=1.9.1 in /usr/local/lib/python3.7/dist-packages (from keras.applications) (1.21.5)\n",
            "Requirement already satisfied: cached-property in /usr/local/lib/python3.7/dist-packages (from h5py->keras.applications) (1.5.2)\n",
            "Installing collected packages: keras.applications\n",
            "Successfully installed keras.applications-1.0.8\n"
          ]
        }
      ]
    },
    {
      "cell_type": "markdown",
      "source": [
        "**ResNet50**"
      ],
      "metadata": {
        "id": "rU8qqauGqGG4"
      }
    },
    {
      "cell_type": "code",
      "metadata": {
        "id": "9rRtvqcnkuHU",
        "colab": {
          "base_uri": "https://localhost:8080/"
        },
        "outputId": "d8b6acd9-6203-4f07-a53d-af1340b7dde5"
      },
      "source": [
        "from tensorflow.keras.applications import ResNet50\n",
        "from keras.preprocessing import image\n",
        "from  tensorflow.keras.applications.resnet50 import preprocess_input, decode_predictions\n",
        "from  tensorflow.keras.applications import vgg16, inception_v3, resnet50\n",
        "import numpy as np\n",
        "\n",
        "resnet_model = ResNet50(weights='imagenet')"
      ],
      "execution_count": 3,
      "outputs": [
        {
          "output_type": "stream",
          "name": "stdout",
          "text": [
            "Downloading data from https://storage.googleapis.com/tensorflow/keras-applications/resnet/resnet50_weights_tf_dim_ordering_tf_kernels.h5\n",
            "102973440/102967424 [==============================] - 2s 0us/step\n",
            "102981632/102967424 [==============================] - 2s 0us/step\n"
          ]
        }
      ]
    },
    {
      "cell_type": "code",
      "metadata": {
        "id": "642N9ZP0kzV1",
        "colab": {
          "base_uri": "https://localhost:8080/"
        },
        "outputId": "143bafb3-0a68-4583-f34c-2ad82bb47732"
      },
      "source": [
        "from keras.preprocessing import image\n",
        "img_path = '/content/dog2.jpg' \n",
        "\n",
        "img = image.load_img(img_path, target_size=(224, 224))\n",
        "x = image.img_to_array(img)\n",
        "print(x.shape)\n",
        "x = np.expand_dims(x, axis=0)\n",
        "print(x.shape)\n",
        "x = preprocess_input(x)\n",
        "\n",
        "preds = resnet_model.predict(x)\n",
        "# decode the results into a list of tuples (class, description, probability)\n",
        "# (one such list for each sample in the batch)\n",
        "print('Predicted:', decode_predictions(preds, top=5)[0])"
      ],
      "execution_count": 4,
      "outputs": [
        {
          "output_type": "stream",
          "name": "stdout",
          "text": [
            "(224, 224, 3)\n",
            "(1, 224, 224, 3)\n",
            "Downloading data from https://storage.googleapis.com/download.tensorflow.org/data/imagenet_class_index.json\n",
            "40960/35363 [==================================] - 0s 0us/step\n",
            "49152/35363 [=========================================] - 0s 0us/step\n",
            "Predicted: [('n02106662', 'German_shepherd', 0.98924583), ('n02105162', 'malinois', 0.010292456), ('n02109047', 'Great_Dane', 6.952054e-05), ('n02096051', 'Airedale', 6.0093385e-05), ('n02088466', 'bloodhound', 5.4177715e-05)]\n"
          ]
        }
      ]
    },
    {
      "cell_type": "markdown",
      "source": [
        "**VGG16,VGG19**"
      ],
      "metadata": {
        "id": "s_3SlOPFqOJY"
      }
    },
    {
      "cell_type": "code",
      "metadata": {
        "id": "J3L4MckAnlfD",
        "colab": {
          "base_uri": "https://localhost:8080/"
        },
        "outputId": "d2c57c15-b34a-4b1e-de89-2a640c41e401"
      },
      "source": [
        "from  tensorflow.keras.applications import VGG16,VGG19\n",
        "from keras.preprocessing import image\n",
        "import numpy as np\n",
        "vggModel=VGG16(weights='imagenet')\n",
        "vgg19Model=VGG19(weights='imagenet')"
      ],
      "execution_count": 5,
      "outputs": [
        {
          "output_type": "stream",
          "name": "stdout",
          "text": [
            "Downloading data from https://storage.googleapis.com/tensorflow/keras-applications/vgg16/vgg16_weights_tf_dim_ordering_tf_kernels.h5\n",
            "553467904/553467096 [==============================] - 11s 0us/step\n",
            "553476096/553467096 [==============================] - 11s 0us/step\n",
            "Downloading data from https://storage.googleapis.com/tensorflow/keras-applications/vgg19/vgg19_weights_tf_dim_ordering_tf_kernels.h5\n",
            "574717952/574710816 [==============================] - 12s 0us/step\n",
            "574726144/574710816 [==============================] - 12s 0us/step\n"
          ]
        }
      ]
    },
    {
      "cell_type": "code",
      "metadata": {
        "colab": {
          "base_uri": "https://localhost:8080/"
        },
        "id": "0ScHWu3QDF88",
        "outputId": "209aa592-23e8-4ef5-8847-7f62475d073d"
      },
      "source": [
        "path='/content/dog2.jpg'\n",
        "pimg=image.load_img(path,target_size=(224,224))\n",
        "iarray=image.img_to_array(pimg)\n",
        "print('image shape',iarray.shape)\n",
        "iexpand = np.expand_dims(iarray,axis=0)\n",
        "iexpand.shape"
      ],
      "execution_count": 6,
      "outputs": [
        {
          "output_type": "stream",
          "name": "stdout",
          "text": [
            "image shape (224, 224, 3)\n"
          ]
        },
        {
          "output_type": "execute_result",
          "data": {
            "text/plain": [
              "(1, 224, 224, 3)"
            ]
          },
          "metadata": {},
          "execution_count": 6
        }
      ]
    },
    {
      "cell_type": "code",
      "metadata": {
        "colab": {
          "base_uri": "https://localhost:8080/"
        },
        "id": "-lPApcrPGFWV",
        "outputId": "eadcc000-a851-4b19-a398-94f8994baf08"
      },
      "source": [
        "iexpand"
      ],
      "execution_count": 7,
      "outputs": [
        {
          "output_type": "execute_result",
          "data": {
            "text/plain": [
              "array([[[[ 26.,  44.,  20.],\n",
              "         [ 24.,  42.,  18.],\n",
              "         [ 24.,  42.,  18.],\n",
              "         ...,\n",
              "         [ 64.,  79.,  38.],\n",
              "         [ 66.,  81.,  40.],\n",
              "         [ 66.,  81.,  40.]],\n",
              "\n",
              "        [[ 26.,  44.,  20.],\n",
              "         [ 26.,  44.,  20.],\n",
              "         [ 24.,  42.,  18.],\n",
              "         ...,\n",
              "         [ 64.,  79.,  38.],\n",
              "         [ 68.,  83.,  42.],\n",
              "         [ 68.,  83.,  42.]],\n",
              "\n",
              "        [[ 26.,  44.,  20.],\n",
              "         [ 26.,  44.,  20.],\n",
              "         [ 26.,  44.,  20.],\n",
              "         ...,\n",
              "         [ 66.,  81.,  40.],\n",
              "         [ 70.,  85.,  44.],\n",
              "         [ 70.,  85.,  44.]],\n",
              "\n",
              "        ...,\n",
              "\n",
              "        [[164., 173., 116.],\n",
              "         [164., 173., 116.],\n",
              "         [164., 173., 116.],\n",
              "         ...,\n",
              "         [132., 146.,  87.],\n",
              "         [132., 146.,  87.],\n",
              "         [132., 146.,  87.]],\n",
              "\n",
              "        [[164., 173., 116.],\n",
              "         [164., 173., 116.],\n",
              "         [164., 173., 116.],\n",
              "         ...,\n",
              "         [132., 146.,  87.],\n",
              "         [132., 146.,  87.],\n",
              "         [132., 146.,  87.]],\n",
              "\n",
              "        [[162., 171., 114.],\n",
              "         [164., 173., 116.],\n",
              "         [164., 173., 116.],\n",
              "         ...,\n",
              "         [132., 145.,  91.],\n",
              "         [130., 144.,  85.],\n",
              "         [130., 144.,  85.]]]], dtype=float32)"
            ]
          },
          "metadata": {},
          "execution_count": 7
        }
      ]
    },
    {
      "cell_type": "code",
      "metadata": {
        "colab": {
          "base_uri": "https://localhost:8080/"
        },
        "id": "SSz4PymtEhXW",
        "outputId": "92ab769d-3b8f-4e8b-b205-f758da29027a"
      },
      "source": [
        "from tensorflow.keras.applications.vgg16 import preprocess_input\n",
        "preprocess_input(iexpand)"
      ],
      "execution_count": 8,
      "outputs": [
        {
          "output_type": "execute_result",
          "data": {
            "text/plain": [
              "array([[[[-83.939    , -72.779    , -97.68     ],\n",
              "         [-85.939    , -74.779    , -99.68     ],\n",
              "         [-85.939    , -74.779    , -99.68     ],\n",
              "         ...,\n",
              "         [-65.939    , -37.779    , -59.68     ],\n",
              "         [-63.939003 , -35.779    , -57.68     ],\n",
              "         [-63.939003 , -35.779    , -57.68     ]],\n",
              "\n",
              "        [[-83.939    , -72.779    , -97.68     ],\n",
              "         [-83.939    , -72.779    , -97.68     ],\n",
              "         [-85.939    , -74.779    , -99.68     ],\n",
              "         ...,\n",
              "         [-65.939    , -37.779    , -59.68     ],\n",
              "         [-61.939003 , -33.779    , -55.68     ],\n",
              "         [-61.939003 , -33.779    , -55.68     ]],\n",
              "\n",
              "        [[-83.939    , -72.779    , -97.68     ],\n",
              "         [-83.939    , -72.779    , -97.68     ],\n",
              "         [-83.939    , -72.779    , -97.68     ],\n",
              "         ...,\n",
              "         [-63.939003 , -35.779    , -57.68     ],\n",
              "         [-59.939003 , -31.779    , -53.68     ],\n",
              "         [-59.939003 , -31.779    , -53.68     ]],\n",
              "\n",
              "        ...,\n",
              "\n",
              "        [[ 12.060997 ,  56.221    ,  40.32     ],\n",
              "         [ 12.060997 ,  56.221    ,  40.32     ],\n",
              "         [ 12.060997 ,  56.221    ,  40.32     ],\n",
              "         ...,\n",
              "         [-16.939003 ,  29.221    ,   8.32     ],\n",
              "         [-16.939003 ,  29.221    ,   8.32     ],\n",
              "         [-16.939003 ,  29.221    ,   8.32     ]],\n",
              "\n",
              "        [[ 12.060997 ,  56.221    ,  40.32     ],\n",
              "         [ 12.060997 ,  56.221    ,  40.32     ],\n",
              "         [ 12.060997 ,  56.221    ,  40.32     ],\n",
              "         ...,\n",
              "         [-16.939003 ,  29.221    ,   8.32     ],\n",
              "         [-16.939003 ,  29.221    ,   8.32     ],\n",
              "         [-16.939003 ,  29.221    ,   8.32     ]],\n",
              "\n",
              "        [[ 10.060997 ,  54.221    ,  38.32     ],\n",
              "         [ 12.060997 ,  56.221    ,  40.32     ],\n",
              "         [ 12.060997 ,  56.221    ,  40.32     ],\n",
              "         ...,\n",
              "         [-12.939003 ,  28.221    ,   8.32     ],\n",
              "         [-18.939003 ,  27.221    ,   6.3199997],\n",
              "         [-18.939003 ,  27.221    ,   6.3199997]]]], dtype=float32)"
            ]
          },
          "metadata": {},
          "execution_count": 8
        }
      ]
    },
    {
      "cell_type": "code",
      "metadata": {
        "id": "W7gzO_6jGCzD"
      },
      "source": [
        "pred=vggModel.predict(iexpand)\n",
        "pred19=vgg19Model.predict(iexpand)\n"
      ],
      "execution_count": 9,
      "outputs": []
    },
    {
      "cell_type": "code",
      "metadata": {
        "colab": {
          "base_uri": "https://localhost:8080/"
        },
        "id": "ABdLMP5TGT3W",
        "outputId": "7d619a00-194f-4eed-eb11-a2a071277aea"
      },
      "source": [
        "from  tensorflow.keras.applications.vgg16 import decode_predictions\n",
        "decode_predictions(pred,top=5)[0]"
      ],
      "execution_count": 10,
      "outputs": [
        {
          "output_type": "execute_result",
          "data": {
            "text/plain": [
              "[('n02106662', 'German_shepherd', 0.5855561),\n",
              " ('n02105162', 'malinois', 0.078926235),\n",
              " ('n02105412', 'kelpie', 0.063508585),\n",
              " ('n02107142', 'Doberman', 0.03202027),\n",
              " ('n02091244', 'Ibizan_hound', 0.023346864)]"
            ]
          },
          "metadata": {},
          "execution_count": 10
        }
      ]
    },
    {
      "cell_type": "code",
      "metadata": {
        "colab": {
          "base_uri": "https://localhost:8080/"
        },
        "id": "_CvNF-bMHAs0",
        "outputId": "e097b189-5288-4a2b-c24e-f00450af1492"
      },
      "source": [
        " decode_predictions(pred19,top=5)[0]"
      ],
      "execution_count": 11,
      "outputs": [
        {
          "output_type": "execute_result",
          "data": {
            "text/plain": [
              "[('n02107142', 'Doberman', 0.21195403),\n",
              " ('n02105412', 'kelpie', 0.21167123),\n",
              " ('n02091244', 'Ibizan_hound', 0.1948893),\n",
              " ('n02106662', 'German_shepherd', 0.080268115),\n",
              " ('n02096294', 'Australian_terrier', 0.017420942)]"
            ]
          },
          "metadata": {},
          "execution_count": 11
        }
      ]
    },
    {
      "cell_type": "markdown",
      "source": [
        "**ResNet50 , ResNet152**"
      ],
      "metadata": {
        "id": "3RRFS13Bqdxn"
      }
    },
    {
      "cell_type": "code",
      "metadata": {
        "id": "b-9ybXD2I6Xk"
      },
      "source": [
        "from tensorflow.keras.applications import ResNet50,ResNet152\n",
        "import numpy as np\n",
        "from tensorflow.keras.preprocessing import image\n",
        "from tensorflow.keras.applications.resnet50 import decode_predictions,preprocess_input\n",
        "resnet_model = ResNet152(weights='imagenet')"
      ],
      "execution_count": 19,
      "outputs": []
    },
    {
      "cell_type": "code",
      "source": [
        "from keras.preprocessing import image\n",
        "img_path = '/content/dog2.jpg' \n",
        "\n",
        "img = image.load_img(img_path, target_size=(224, 224))\n",
        "x = image.img_to_array(img)\n",
        "print(x.shape)\n",
        "x = np.expand_dims(x, axis=0)\n",
        "print(x.shape)\n",
        "x = preprocess_input(x)\n",
        "\n",
        "preds = resnet_model.predict(x)\n",
        "# decode the results into a list of tuples (class, description, probability)\n",
        "# (one such list for each sample in the batch)\n",
        "print('Predicted:', decode_predictions(preds, top=5)[0])"
      ],
      "metadata": {
        "colab": {
          "base_uri": "https://localhost:8080/"
        },
        "id": "zt-BC2iJUPBm",
        "outputId": "7fb1dedc-0fc3-44aa-cc35-88cba13056b6"
      },
      "execution_count": 20,
      "outputs": [
        {
          "output_type": "stream",
          "name": "stdout",
          "text": [
            "(224, 224, 3)\n",
            "(1, 224, 224, 3)\n",
            "Predicted: [('n02106662', 'German_shepherd', 0.962625), ('n02105162', 'malinois', 0.03178191), ('n02109047', 'Great_Dane', 0.001152774), ('n03803284', 'muzzle', 0.00064379827), ('n02916936', 'bulletproof_vest', 0.00032873347)]\n"
          ]
        }
      ]
    },
    {
      "cell_type": "code",
      "metadata": {
        "id": "kU5_bPH0PuRd",
        "colab": {
          "base_uri": "https://localhost:8080/"
        },
        "outputId": "d9437f61-4510-4a95-f261-eb846b482d88"
      },
      "source": [
        "from tensorflow.keras.applications.resnet_v2 import ResNet152V2\n",
        "rmodel=ResNet50(weights='imagenet')\n",
        "rmmodel152=ResNet152(weights='imagenet')"
      ],
      "execution_count": 14,
      "outputs": [
        {
          "output_type": "stream",
          "name": "stdout",
          "text": [
            "Downloading data from https://storage.googleapis.com/tensorflow/keras-applications/resnet/resnet152_weights_tf_dim_ordering_tf_kernels.h5\n",
            "242900992/242900224 [==============================] - 5s 0us/step\n",
            "242909184/242900224 [==============================] - 5s 0us/step\n"
          ]
        }
      ]
    },
    {
      "cell_type": "code",
      "metadata": {
        "colab": {
          "base_uri": "https://localhost:8080/"
        },
        "id": "gtZ8hwjIPzDd",
        "outputId": "17c1db19-1d0c-4529-8d9f-4d4128ad924f"
      },
      "source": [
        "from keras.preprocessing import image\n",
        "img_path = '/content/dog2.jpg' \n",
        "\n",
        "img = image.load_img(img_path, target_size=(224, 224))\n",
        "x = image.img_to_array(img)\n",
        "print(x.shape)\n",
        "x = np.expand_dims(x, axis=0)\n",
        "print(x.shape)\n",
        "x = preprocess_input(x)\n",
        "\n",
        "preds = rmmodel152.predict(x)\n",
        "# decode the results into a list of tuples (class, description, probability)\n",
        "# (one such list for each sample in the batch)\n",
        "print('Predicted:', decode_predictions(preds, top=5)[0])\n"
      ],
      "execution_count": 21,
      "outputs": [
        {
          "output_type": "stream",
          "name": "stdout",
          "text": [
            "(224, 224, 3)\n",
            "(1, 224, 224, 3)\n",
            "WARNING:tensorflow:5 out of the last 8 calls to <function Model.make_predict_function.<locals>.predict_function at 0x7f7df1559560> triggered tf.function retracing. Tracing is expensive and the excessive number of tracings could be due to (1) creating @tf.function repeatedly in a loop, (2) passing tensors with different shapes, (3) passing Python objects instead of tensors. For (1), please define your @tf.function outside of the loop. For (2), @tf.function has experimental_relax_shapes=True option that relaxes argument shapes that can avoid unnecessary retracing. For (3), please refer to https://www.tensorflow.org/guide/function#controlling_retracing and https://www.tensorflow.org/api_docs/python/tf/function for  more details.\n",
            "Predicted: [('n02106662', 'German_shepherd', 0.962625), ('n02105162', 'malinois', 0.03178191), ('n02109047', 'Great_Dane', 0.001152774), ('n03803284', 'muzzle', 0.00064379827), ('n02916936', 'bulletproof_vest', 0.00032873347)]\n"
          ]
        }
      ]
    },
    {
      "cell_type": "code",
      "metadata": {
        "id": "Z0cWpwN1Qr9m"
      },
      "source": [
        "from tensorflow.keras.applications.resnet_v2 import decode_predictions,preprocess_input\n",
        "rmodel=ResNet50(weights='imagenet')"
      ],
      "execution_count": 35,
      "outputs": []
    },
    {
      "cell_type": "code",
      "source": [
        "from keras.preprocessing import image\n",
        "img_path = '/content/dog2.jpg' \n",
        "img = image.load_img(img_path, target_size=(224, 224))\n",
        "x = image.img_to_array(img)\n",
        "print(x.shape)\n",
        "x = np.expand_dims(x, axis=0)\n",
        "print(x.shape)\n",
        "x = preprocess_input(x)\n",
        "preds = rmodel.predict(x)\n",
        "# decode the results into a list of tuples (class, description, probability)\n",
        "# (one such list for each sample in the batch)\n",
        "print('Predicted:', decode_predictions(preds, top=5)[0])"
      ],
      "metadata": {
        "id": "joTDQ1GUVrpM",
        "colab": {
          "base_uri": "https://localhost:8080/"
        },
        "outputId": "f133abdd-e929-4d5c-9852-cd7345ac37d9"
      },
      "execution_count": 36,
      "outputs": [
        {
          "output_type": "stream",
          "name": "stdout",
          "text": [
            "(224, 224, 3)\n",
            "(1, 224, 224, 3)\n",
            "Predicted: [('n01930112', 'nematode', 0.14167705), ('n03041632', 'cleaver', 0.038524102), ('n03838899', 'oboe', 0.032992225), ('n03804744', 'nail', 0.028226327), ('n02783161', 'ballpoint', 0.026855316)]\n"
          ]
        }
      ]
    }
  ]
}