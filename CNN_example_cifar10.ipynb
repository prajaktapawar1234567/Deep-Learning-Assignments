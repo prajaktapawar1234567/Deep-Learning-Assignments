{
  "cells": [
    {
      "cell_type": "markdown",
      "metadata": {
        "id": "view-in-github",
        "colab_type": "text"
      },
      "source": [
        "<a href=\"https://colab.research.google.com/github/prajaktapawar1234567/Deep-Learning-Assignments/blob/master/CNN_example_cifar10.ipynb\" target=\"_parent\"><img src=\"https://colab.research.google.com/assets/colab-badge.svg\" alt=\"Open In Colab\"/></a>"
      ]
    },
    {
      "cell_type": "code",
      "execution_count": 1,
      "metadata": {
        "colab": {
          "base_uri": "https://localhost:8080/"
        },
        "id": "1UB1xv0MtPEV",
        "outputId": "dc958d7c-54b5-4465-8408-7f0621c552dc"
      },
      "outputs": [
        {
          "output_type": "stream",
          "name": "stdout",
          "text": [
            "Downloading data from https://www.cs.toronto.edu/~kriz/cifar-10-python.tar.gz\n",
            "170500096/170498071 [==============================] - 11s 0us/step\n",
            "170508288/170498071 [==============================] - 11s 0us/step\n",
            "(50000, 32, 32, 3)\n"
          ]
        }
      ],
      "source": [
        "from keras.datasets import cifar10\n",
        "(x_train,y_train),(x_test,y_test)=cifar10.load_data()\n",
        "print(x_train.shape)"
      ]
    },
    {
      "cell_type": "code",
      "execution_count": 2,
      "metadata": {
        "colab": {
          "base_uri": "https://localhost:8080/"
        },
        "id": "x9lUxLitrQTn",
        "outputId": "8bdfe6bc-5d0a-4119-dfaa-310fd6fdd396"
      },
      "outputs": [
        {
          "output_type": "execute_result",
          "data": {
            "text/plain": [
              "(50000, 1)"
            ]
          },
          "metadata": {},
          "execution_count": 2
        }
      ],
      "source": [
        "y_train.shape"
      ]
    },
    {
      "cell_type": "code",
      "execution_count": 3,
      "metadata": {
        "colab": {
          "base_uri": "https://localhost:8080/"
        },
        "id": "JGclQcJQ2SJ4",
        "outputId": "6fbb79a6-67e5-4e87-e077-5018a7c5b5d7"
      },
      "outputs": [
        {
          "output_type": "stream",
          "name": "stdout",
          "text": [
            "Initial shape or dimensions of x_train (50000, 32, 32, 3)\n",
            "Number of samples in our training data: 50000\n",
            "Number of labels in our training data: 50000\n",
            "Number of samples in our test data: 10000\n",
            "Number of labels in our test data: 10000\n",
            "\n",
            "Dimensions of x_train:(32, 32, 3)\n",
            "Labels in x_train:(50000, 1)\n",
            "\n",
            "Dimensions of x_test:(32, 32, 3)\n",
            "Labels in y_test:(10000, 1)\n"
          ]
        }
      ],
      "source": [
        "# printing the number of samples in x_train, x_test, y_train, y_test\n",
        "print(\"Initial shape or dimensions of x_train\", str(x_train.shape))\n",
        "\n",
        "print (\"Number of samples in our training data: \" + str(len(x_train)))\n",
        "print (\"Number of labels in our training data: \" + str(len(y_train)))\n",
        "print (\"Number of samples in our test data: \" + str(len(x_test)))\n",
        "print (\"Number of labels in our test data: \" + str(len(y_test)))\n",
        "print()\n",
        "print (\"Dimensions of x_train:\" + str(x_train[0].shape))\n",
        "print (\"Labels in x_train:\" + str(y_train.shape))\n",
        "print()\n",
        "print (\"Dimensions of x_test:\" + str(x_test[0].shape))\n",
        "print (\"Labels in y_test:\" + str(y_test.shape))"
      ]
    },
    {
      "cell_type": "code",
      "execution_count": 4,
      "metadata": {
        "colab": {
          "base_uri": "https://localhost:8080/"
        },
        "id": "iGL5EHnjt7pT",
        "outputId": "e269558a-a330-4e6f-af11-85a3203b53ee"
      },
      "outputs": [
        {
          "output_type": "stream",
          "name": "stdout",
          "text": [
            "x_train shape: (50000, 32, 32, 3)\n",
            "50000 train samples\n",
            "10000 test samples\n"
          ]
        }
      ],
      "source": [
        "# Lets store the number of rows and columns\n",
        "img_rows = x_train[0].shape[0]\n",
        "img_cols = x_train[0].shape[1]\n",
        "\n",
        "# Getting our date in the right 'shape' needed for Keras\n",
        "# We need to add a 4th dimenion to our date thereby changing our\n",
        "# Our original image shape of (60000,28,28) to (60000,28,28,1)\n",
        "x_train = x_train.reshape(x_train.shape[0], img_rows, img_cols,3)\n",
        "x_test = x_test.reshape(x_test.shape[0], img_rows, img_cols,3)\n",
        "\n",
        "# store the shape of a single image \n",
        "input_shape = (img_rows, img_cols,3)\n",
        "\n",
        "# change our image type to float32 data type\n",
        "x_train = x_train.astype('float32')\n",
        "x_test = x_test.astype('float32')\n",
        "\n",
        "# Normalize our data by changing the range from (0 to 255) to (0 to 1)\n",
        "x_train /= 255\n",
        "x_test /= 255\n",
        "\n",
        "print('x_train shape:', x_train.shape)\n",
        "print(x_train.shape[0], 'train samples')\n",
        "print(x_test.shape[0], 'test samples')"
      ]
    },
    {
      "cell_type": "code",
      "execution_count": 5,
      "metadata": {
        "colab": {
          "base_uri": "https://localhost:8080/"
        },
        "id": "MwhTttuRt7ah",
        "outputId": "96a329c1-2950-43ea-81f2-c43e32f7c47f"
      },
      "outputs": [
        {
          "output_type": "stream",
          "name": "stdout",
          "text": [
            "Number of Classes: 10\n"
          ]
        }
      ],
      "source": [
        "from keras.utils import np_utils\n",
        "\n",
        "# Now we one hot encode outputs\n",
        "y_train = np_utils.to_categorical(y_train)\n",
        "y_test = np_utils.to_categorical(y_test)\n",
        "\n",
        "# Let's count the number columns in our hot encoded matrix \n",
        "print (\"Number of Classes: \" + str(y_test.shape[1]))\n",
        "\n",
        "num_classes = y_test.shape[1]\n",
        "num_pixels = x_train.shape[1] * x_train.shape[2]"
      ]
    },
    {
      "cell_type": "code",
      "execution_count": 6,
      "metadata": {
        "colab": {
          "base_uri": "https://localhost:8080/"
        },
        "id": "3MdADKGI20el",
        "outputId": "f5e5905d-411e-4a0e-a875-136290293bb6"
      },
      "outputs": [
        {
          "output_type": "execute_result",
          "data": {
            "text/plain": [
              "array([0., 0., 0., 0., 0., 0., 1., 0., 0., 0.], dtype=float32)"
            ]
          },
          "metadata": {},
          "execution_count": 6
        }
      ],
      "source": [
        "y_train[0]"
      ]
    },
    {
      "cell_type": "code",
      "execution_count": 7,
      "metadata": {
        "colab": {
          "base_uri": "https://localhost:8080/"
        },
        "id": "RmJC7mA425d4",
        "outputId": "3fa5b596-9402-4b49-bb74-d9a6ed17a02e"
      },
      "outputs": [
        {
          "output_type": "stream",
          "name": "stdout",
          "text": [
            "Model: \"sequential\"\n",
            "_________________________________________________________________\n",
            " Layer (type)                Output Shape              Param #   \n",
            "=================================================================\n",
            " conv2d (Conv2D)             (None, 30, 30, 32)        896       \n",
            "                                                                 \n",
            " conv2d_1 (Conv2D)           (None, 28, 28, 64)        18496     \n",
            "                                                                 \n",
            " max_pooling2d (MaxPooling2D  (None, 9, 9, 64)         0         \n",
            " )                                                               \n",
            "                                                                 \n",
            " dropout (Dropout)           (None, 9, 9, 64)          0         \n",
            "                                                                 \n",
            " flatten (Flatten)           (None, 5184)              0         \n",
            "                                                                 \n",
            " dense (Dense)               (None, 128)               663680    \n",
            "                                                                 \n",
            " dropout_1 (Dropout)         (None, 128)               0         \n",
            "                                                                 \n",
            " dense_1 (Dense)             (None, 10)                1290      \n",
            "                                                                 \n",
            "=================================================================\n",
            "Total params: 684,362\n",
            "Trainable params: 684,362\n",
            "Non-trainable params: 0\n",
            "_________________________________________________________________\n",
            "None\n"
          ]
        }
      ],
      "source": [
        "import keras\n",
        "from keras.datasets import mnist\n",
        "from keras.models import Sequential\n",
        "from keras.layers import Dense, Dropout, Flatten\n",
        "from keras.layers import Conv2D, MaxPooling2D\n",
        "from keras import backend as K\n",
        "#from keras.optimizers import SGD \n",
        "\n",
        "# create model\n",
        "model = Sequential()\n",
        "\n",
        "model.add(Conv2D(32, kernel_size=(3, 3),\n",
        "                 activation='relu',\n",
        "                 input_shape=input_shape))\n",
        "model.add(Conv2D(64, (3, 3), activation='relu'))\n",
        "model.add(MaxPooling2D(pool_size=(3,3)))\n",
        "model.add(Dropout(0.25))\n",
        "model.add(Flatten())\n",
        "model.add(Dense(128, activation='relu'))\n",
        "model.add(Dropout(0.5))\n",
        "model.add(Dense(num_classes, activation='softmax'))\n",
        "\n",
        "model.compile(loss = 'categorical_crossentropy',\n",
        "              optimizer = 'SGD',\n",
        "              metrics = ['accuracy'])\n",
        "\n",
        "print(model.summary())"
      ]
    },
    {
      "cell_type": "code",
      "execution_count": 8,
      "metadata": {
        "colab": {
          "base_uri": "https://localhost:8080/"
        },
        "id": "wU2TUCmW5jeJ",
        "outputId": "bb7f186b-a108-40d3-92bc-b3229c60d99b"
      },
      "outputs": [
        {
          "output_type": "stream",
          "name": "stdout",
          "text": [
            "Epoch 1/10\n",
            "1563/1563 [==============================] - 166s 106ms/step - loss: 2.0647 - accuracy: 0.2456 - val_loss: 1.8315 - val_accuracy: 0.3242\n",
            "Epoch 2/10\n",
            "1563/1563 [==============================] - 162s 103ms/step - loss: 1.7283 - accuracy: 0.3809 - val_loss: 1.5326 - val_accuracy: 0.4562\n",
            "Epoch 3/10\n",
            "1563/1563 [==============================] - 162s 103ms/step - loss: 1.5427 - accuracy: 0.4428 - val_loss: 1.3750 - val_accuracy: 0.5202\n",
            "Epoch 4/10\n",
            "1563/1563 [==============================] - 166s 106ms/step - loss: 1.4379 - accuracy: 0.4868 - val_loss: 1.3028 - val_accuracy: 0.5411\n",
            "Epoch 5/10\n",
            "1563/1563 [==============================] - 163s 104ms/step - loss: 1.3604 - accuracy: 0.5140 - val_loss: 1.2610 - val_accuracy: 0.5495\n",
            "Epoch 6/10\n",
            "1563/1563 [==============================] - 162s 103ms/step - loss: 1.3019 - accuracy: 0.5364 - val_loss: 1.2715 - val_accuracy: 0.5474\n",
            "Epoch 7/10\n",
            "1563/1563 [==============================] - 161s 103ms/step - loss: 1.2457 - accuracy: 0.5600 - val_loss: 1.1110 - val_accuracy: 0.6142\n",
            "Epoch 8/10\n",
            "1563/1563 [==============================] - 162s 104ms/step - loss: 1.1905 - accuracy: 0.5799 - val_loss: 1.0879 - val_accuracy: 0.6171\n",
            "Epoch 9/10\n",
            "1563/1563 [==============================] - 162s 104ms/step - loss: 1.1507 - accuracy: 0.5930 - val_loss: 1.0562 - val_accuracy: 0.6348\n",
            "Epoch 10/10\n",
            "1563/1563 [==============================] - 162s 104ms/step - loss: 1.1131 - accuracy: 0.6073 - val_loss: 1.0341 - val_accuracy: 0.6428\n",
            "Test loss: 1.0340502262115479\n",
            "Test accuracy: 0.642799973487854\n"
          ]
        }
      ],
      "source": [
        "batch_size = 32\n",
        "epochs = 10\n",
        "history = model.fit(x_train,\n",
        "                    y_train,\n",
        "                    batch_size = batch_size,\n",
        "                    epochs = epochs,\n",
        "                    verbose = 1,\n",
        "                   validation_data = (x_test,y_test))\n",
        "score = model.evaluate(x_test, y_test, verbose=0)\n",
        "print('Test loss:', score[0])\n",
        "print('Test accuracy:', score[1])"
      ]
    },
    {
      "cell_type": "code",
      "execution_count": 9,
      "metadata": {
        "colab": {
          "base_uri": "https://localhost:8080/",
          "height": 279
        },
        "id": "kHzzGUNp5jRd",
        "outputId": "d11f467e-cae0-4b98-baaf-4d032b7253a9"
      },
      "outputs": [
        {
          "output_type": "display_data",
          "data": {
            "image/png": "[encoded data removed]",
            "text/plain": [
              "<Figure size 432x288 with 1 Axes>"
            ]
          },
          "metadata": {
            "needs_background": "light"
          }
        }
      ],
      "source": [
        "# Plotting our loss charts\n",
        "import matplotlib.pyplot as plt\n",
        "\n",
        "history_dict = history.history\n",
        "\n",
        "loss_values = history_dict['loss']\n",
        "val_loss_values = history_dict['val_loss']\n",
        "epochs = range(1, len(loss_values) + 1)\n",
        "\n",
        "line1 = plt.plot(epochs, val_loss_values, label='Validation/Test Loss')\n",
        "line2 = plt.plot(epochs, loss_values, label='Training Loss')\n",
        "plt.setp(line1, linewidth=2.0, marker = '+', markersize=10.0)\n",
        "plt.setp(line2, linewidth=2.0, marker = '4', markersize=10.0)\n",
        "plt.xlabel('Epochs') \n",
        "plt.ylabel('Loss')\n",
        "plt.grid(True)\n",
        "plt.legend()\n",
        "plt.show()"
      ]
    }
  ],
  "metadata": {
    "colab": {
      "name": "CNN-example-cifar10.ipynb",
      "provenance": [],
      "authorship_tag": "ABX9TyNewYgfkkVsIUoPq/oz+yka",
      "include_colab_link": true
    },
    "kernelspec": {
      "display_name": "Python 3",
      "name": "python3"
    },
    "language_info": {
      "name": "python"
    }
  },
  "nbformat": 4,
  "nbformat_minor": 0
}