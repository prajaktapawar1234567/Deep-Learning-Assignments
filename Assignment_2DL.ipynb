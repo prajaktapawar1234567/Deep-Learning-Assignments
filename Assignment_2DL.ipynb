{
  "nbformat": 4,
  "nbformat_minor": 0,
  "metadata": {
    "colab": {
      "name": "Assignment-2DL",
      "provenance": [],
      "authorship_tag": "ABX9TyNoUmfKSn9SMpFKVnNad76g",
      "include_colab_link": true
    },
    "kernelspec": {
      "name": "python3",
      "display_name": "Python 3"
    },
    "language_info": {
      "name": "python"
    }
  },
  "cells": [
    {
      "cell_type": "markdown",
      "metadata": {
        "id": "view-in-github",
        "colab_type": "text"
      },
      "source": [
        "<a href=\"https://colab.research.google.com/github/prajaktapawar1234567/Deep-Learning-Assignments/blob/master/Assignment_2DL.ipynb\" target=\"_parent\"><img src=\"https://colab.research.google.com/assets/colab-badge.svg\" alt=\"Open In Colab\"/></a>"
      ]
    },
    {
      "cell_type": "markdown",
      "source": [
        "Q. Find Mean Square Error Using numpy.\n",
        "\n"
      ],
      "metadata": {
        "id": "ADsi9m1B712S"
      }
    },
    {
      "cell_type": "code",
      "execution_count": 10,
      "metadata": {
        "id": "4UNlsJiK6m2J"
      },
      "outputs": [],
      "source": [
        "import numpy as np\n",
        "ytrue=np.array([0.70,0,1,0.30,0.5])\n",
        "ypred=np.array([1,0,0,1,1])"
      ]
    },
    {
      "cell_type": "code",
      "source": [
        "MSE=np.square(np.subtract(ytrue,ypred)).mean()\n",
        "MSE"
      ],
      "metadata": {
        "colab": {
          "base_uri": "https://localhost:8080/"
        },
        "id": "H6cybu4R676Q",
        "outputId": "7d201a80-e68f-4d8c-98c9-30afb6c99378"
      },
      "execution_count": 11,
      "outputs": [
        {
          "output_type": "execute_result",
          "data": {
            "text/plain": [
              "0.366"
            ]
          },
          "metadata": {},
          "execution_count": 11
        }
      ]
    },
    {
      "cell_type": "markdown",
      "source": [
        "**Q2. Find Mean Square Error without numpy.**"
      ],
      "metadata": {
        "id": "jIkjbFxu7tWi"
      }
    },
    {
      "cell_type": "code",
      "source": [
        "\"\"\"## Q2. without using numpy\"\"\"\n",
        "\n",
        "def mean_squared_error(ytrue,ypred):\n",
        "  err = 0\n",
        "  for yt, yp in zip(ytrue,ypred):\n",
        "    err+=(yt-yp)**2\n",
        "  print(\"Total Error\",err)\n",
        "  mse = (err/len(ytrue))\n",
        "  return mse\n",
        "\n",
        "mse = mean_squared_error(ytrue,ypred)\n",
        "print(\"Mean squared error is :\",mse)\n",
        "\n",
        "sum = 0 \n",
        "n = len(ytrue) \n",
        "for i in range (0,n):\n",
        "  difference = ytrue[i] - ypred[i]  \n",
        "  square = difference**2  \n",
        "  sum = sum + square\n",
        "MSE = sum/n  \n",
        "print (\"The Mean Squared Error is: \" , MSE)"
      ],
      "metadata": {
        "colab": {
          "base_uri": "https://localhost:8080/"
        },
        "id": "Vc6KljK-6pFS",
        "outputId": "2a42bda7-e7e9-4f09-840e-c7f8ce3c40d3"
      },
      "execution_count": 12,
      "outputs": [
        {
          "output_type": "stream",
          "name": "stdout",
          "text": [
            "Total Error 1.83\n",
            "Mean squared error is : 0.366\n",
            "The Mean Squared Error is:  0.366\n"
          ]
        }
      ]
    }
  ]
}